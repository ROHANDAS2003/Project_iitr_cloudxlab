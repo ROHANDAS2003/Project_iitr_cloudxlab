{
 "cells": [
  {
   "cell_type": "markdown",
   "metadata": {},
   "source": [
    "# My Number System (Rohan's trio)"
   ]
  },
  {
   "cell_type": "markdown",
   "metadata": {},
   "source": [
    "Index\n",
    "\n",
    "1. [*Choosing base*](#Choosing-a-base:)\n",
    "2. [*3 digit Numbers*](#Three-digit-numbers-will-be:)\n",
    "3. [*Total numbers using n digit*](#total-numbers-using-n-digits-in-Rohan's-trio)\n",
    "4. [*Addition & Subtraction*](#Addition-&-Subtraction-in-Rohan's-trio)\n",
    "5. [*Multiplication*](#Multiplication-in-Rohan's-trio)\n",
    "6. [*Theorems*](#Theorems)\n",
    "7. [*Rohan's trio to Decimal (using python)*](#Converting-Rohan's-trio-to-Decimal-using-Python)\n",
    "8. [*Acknowledgement*](#Acknowledgement)"
   ]
  },
  {
   "cell_type": "markdown",
   "metadata": {},
   "source": [
    "## Choosing a base: \n",
    "My base will be 3"
   ]
  },
  {
   "cell_type": "markdown",
   "metadata": {},
   "source": [
    "I choosed the base 3 for some reasons:\n",
    "\n",
    "- As the total numbers I can form using 3 digits will be 27 (base^digits => 3^3 => 27).\n",
    "- 27 is a decent amount. So I need to write less.\n",
    "- Most importantly I am a bit lazy. 😅"
   ]
  },
  {
   "cell_type": "markdown",
   "metadata": {},
   "source": [
    "## Three digit numbers will be:"
   ]
  },
  {
   "cell_type": "markdown",
   "metadata": {},
   "source": [
    "`0:  0\n",
    "1:  1\n",
    "2:  2\n",
    "3:  10\n",
    "4:  11\n",
    "5:  12\n",
    "6:  20\n",
    "7:  21\n",
    "8:  22\n",
    "9:  100\n",
    "10: 101\n",
    "11: 102\n",
    "12: 110\n",
    "13: 111\n",
    "14: 112\n",
    "15: 120\n",
    "16: 121\n",
    "17: 122\n",
    "18: 200\n",
    "19: 201\n",
    "20: 202\n",
    "21: 210\n",
    "22: 211\n",
    "23: 212\n",
    "24: 220\n",
    "25: 221\n",
    "26: 222\n",
    "`"
   ]
  },
  {
   "cell_type": "markdown",
   "metadata": {},
   "source": [
    "## total numbers using n digits in Rohan's trio"
   ]
  },
  {
   "cell_type": "markdown",
   "metadata": {},
   "source": [
    "(base)^digit = total numbers can be form\n",
    "\n",
    "- (3)^1 = 3 [0,1,2]\n",
    "- (3)^2 = 9 [0,1,2,10,11,12,20,21,22]\n",
    "- (3)^3 = 27 [0,1,2,3,10,11,12,20,21,22,100,...,222]\n",
    "- so on"
   ]
  },
  {
   "cell_type": "markdown",
   "metadata": {},
   "source": [
    "## Addition & Subtraction in Rohan's trio"
   ]
  },
  {
   "cell_type": "markdown",
   "metadata": {},
   "source": [
    "### Addition for single digit"
   ]
  },
  {
   "cell_type": "markdown",
   "metadata": {},
   "source": [
    "| for 0   | for 1   | for 2    |\n",
    "|---------|---------|----------|\n",
    "| 0+0 = 0 | 1+0 = 1 | 2+0 = 2  |\n",
    "| 0+1 = 1 | 1+1 = 2 | 2+1 = 10 |\n",
    "| 0+2 = 2 | 1+2 = 10| 2+2 = 11 |"
   ]
  },
  {
   "cell_type": "markdown",
   "metadata": {},
   "source": [
    "**Addition Theorems**\n",
    "\n",
    "It's quit easy right. Just 2 simple Theorems:\n",
    "\n",
    "- 1+2 = 10 (vice-versa) say it **Theorem a1**\n",
    "- 2+2 = 11 (can say vice-versa) say it **Theorem a2**"
   ]
  },
  {
   "cell_type": "markdown",
   "metadata": {},
   "source": [
    "### Subtracting for single digit"
   ]
  },
  {
   "cell_type": "markdown",
   "metadata": {},
   "source": [
    "| for 1   | for 2   |\n",
    "|---------|---------|\n",
    "| 1-0 = 1 | 2-0 = 2 |\n",
    "| 1-1 = 0 | 2-1 = 1 |\n",
    "|         | 2-2 = 0|"
   ]
  },
  {
   "cell_type": "markdown",
   "metadata": {},
   "source": [
    "here, we are not taking **for 0** as it is the smallest number and we will be considered subtracting smaller from bigger number right now **(hence not taking 1-2 as a case)**. This is because of copule of seasons:\n",
    "\n",
    "- By subtracting bigger from smaller we get negative value.\n",
    "- We are focusing on positive values right now.\n",
    "- I don't want nightmare. 😅"
   ]
  },
  {
   "cell_type": "markdown",
   "metadata": {},
   "source": [
    "### Addition for two digits"
   ]
  },
  {
   "cell_type": "markdown",
   "metadata": {},
   "source": [
    "Lets's see if this is easy too:\n",
    "\n",
    "| case 1 | case 2 | case 3 | case 4 |\n",
    "|----|----|----|----|\n",
    "| 10 | 20 | 20 | 22 |\n",
    "|+ 22|+ 12|+ 22|+ 22|\n",
    "|----|----|----|----|\n",
    "| 102| 102| 112| 121|"
   ]
  },
  {
   "cell_type": "markdown",
   "metadata": {},
   "source": [
    "1. In case 1:\n",
    "\n",
    "    0+2 = 2 and <br> 1+2 = 10 *(using theorem a1)*. <br> Hence we get 102.\n",
    "<br> <br>\n",
    "2. In case 2:\n",
    "\n",
    "    0+2 = 2 and <br> 2+1 = 10 *(using theorem a1)*. <br> Hence we get 102.\n",
    "<br><br>\n",
    "3. In case 3:\n",
    "\n",
    "    0+2 = 2 and <br> 2+2 = 11 *(using theorem a2)*. <br> Hence we get 112.\n",
    "<br><br>\n",
    "4. In case 4:\n",
    "\n",
    "    2+2 = 11 *(using theorm a2)*. **Where we write only 1 and another 1 in hand (wait).**<br>\n",
    "    2+2 = 11 *(using theorem a2)*. **But we have 1 in hand (wait) so 11+1 = 12.**<br>\n",
    "    Hence we get 121"
   ]
  },
  {
   "cell_type": "markdown",
   "metadata": {},
   "source": [
    "It's actually easy just remember theroems. <br> If you don't feel it's easy, I suggest you to go through [*(1.4.1) sigle digit addition.*](#Addition-for-single-digit)"
   ]
  },
  {
   "cell_type": "markdown",
   "metadata": {},
   "source": [
    "### Subtraction for two digits"
   ]
  },
  {
   "cell_type": "markdown",
   "metadata": {},
   "source": [
    "I hope you gone through *(1.4.1) sigle digit addition.* Because we will need it more here. <br> Let's start ! 💻"
   ]
  },
  {
   "cell_type": "markdown",
   "metadata": {},
   "source": [
    "| case 1 | case 2 | case 3 | case 4 |\n",
    "|----|----|----|----|\n",
    "| 22 | 22 | 21 | 20 |\n",
    "|- 10|- 20|- 12|- 12 |\n",
    "|----|----|----|----|\n",
    "| 12| 02| 02| 01|"
   ]
  },
  {
   "cell_type": "markdown",
   "metadata": {},
   "source": [
    "Okay so,\n",
    "\n",
    "1. In case 1:\n",
    "    \n",
    "    2-0 = 2 and <br> 2-1 = 1 <br> Hence we get 12. No Rockect Science right.\n",
    "<br><br>\n",
    "2. In case 2:\n",
    "\n",
    "    2-0 = 2 and <br> 2-2 = 0 <br> Hence we get 02. It's easy."
   ]
  },
  {
   "cell_type": "markdown",
   "metadata": {},
   "source": [
    "**Substraction Theorems**\n",
    "\n",
    "Before moving on let's just look into some theormes:\n",
    "\n",
    "Using Theorem a1, which says:<br>\n",
    "1+2 = 10<br>\n",
    "or we can write it as:<br>\n",
    "- 10-1 = 2 say it **Theorem s1**\n",
    "- 10-2 = 1 say it **Theorme s2**\n",
    "<br><br>\n",
    "using Theorem a2, which says:<br>\n",
    "2+2 = 11<br>\n",
    "or we can write it as:<br>\n",
    "- 11-2 = 2 say it **Theorem s3**\n",
    "\n",
    "**Borrow system**\n",
    "\n",
    "- *As the base of the number system is 3, the reciver gets 3 (10 in Rohan's trio) as borrow but giver will lose only 1.*"
   ]
  },
  {
   "cell_type": "markdown",
   "metadata": {},
   "source": [
    "3. In case 3:\n",
    "\n",
    "    1-2 is not possible so we get borrow.<br>\n",
    "    **so now, 1 is 11 (1+10 = 11 (3 of rohan's trio = 10) ).<br> and 2 is now 1 (as it lose only 1).**<br><br>\n",
    "    So now, 11-2 = 2 *(using Theorem s3)* and\n",
    "    <br> 1-1 = 0.\n",
    "    <br> Hence we get 02.\n",
    "<br><br>\n",
    "simillarly<br><br>\n",
    "4. In case 4:\n",
    "\n",
    "    0-2 is not possible so we get borrow. <br>\n",
    "   **so now, 0 is 10 (0+10 = 10 (3 of Rohan's trio = 10)).<br> and 2 is now 1 (as it lose only 1).**\n",
    "   <br><br>\n",
    "   10-2 = 1 *(using theorem s2)* and\n",
    "   <br> 1-1 = 0.\n",
    "   <br> Hence we get 01."
   ]
  },
  {
   "cell_type": "markdown",
   "metadata": {},
   "source": [
    "## Multiplication in Rohan's trio"
   ]
  },
  {
   "cell_type": "markdown",
   "metadata": {},
   "source": [
    "### Single digit multiplication"
   ]
  },
  {
   "cell_type": "markdown",
   "metadata": {},
   "source": [
    "| for 0   | for 1   | for 2    |\n",
    "|---------|---------|----------|\n",
    "| 0*0 = 0 | 1*0 = 0 | 2*0 = 0  |\n",
    "| 0*1 = 0 | 1*1 = 1 | 2*1 = 2 |\n",
    "| 0*2 = 0 | 1*2 = 2 | 2*2 = 11 |"
   ]
  },
  {
   "cell_type": "markdown",
   "metadata": {},
   "source": [
    "**Multiplication theorem**\n",
    "\n",
    "it's again easy, just remember 1 Theorem\n",
    "\n",
    "- 2 * 2 = 11 say it **Theorem m1**"
   ]
  },
  {
   "cell_type": "markdown",
   "metadata": {},
   "source": [
    "### two digit multiplication"
   ]
  },
  {
   "cell_type": "markdown",
   "metadata": {},
   "source": [
    "| case 1 | case 2 | case 3 |case 4 |\n",
    "|----|----|----|----|\n",
    "| 10 | 11 | 12 | 22 |\n",
    "|* 11|* 12|* 20|* 22|\n",
    "|----|----|----|----|\n",
    "| 10 | 22 |  00| 121|\n",
    "|10* |11* |101*|121*|\n",
    "|----|----|----|----|\n",
    "|110 |202 |1010|2101|"
   ]
  },
  {
   "cell_type": "markdown",
   "metadata": {},
   "source": [
    "1. In case 1:\n",
    "\n",
    "    1 * 0 = 0 and again 1*1 = 1<br>\n",
    "    then again 1 * 0 = 0 and 1*1 = 1<br>\n",
    "    now we get last 0 as it is<br>\n",
    "    1+0 = 1 and first 1 as it is.<br>\n",
    "    Hence we get 110.\n",
    "<br><br>\n",
    "2. In case 2:\n",
    "\n",
    "    2 * 1 = 2 and 2 * 1 = 2<br>\n",
    "    then 1 * 1 = 1 and 1 * 1 = 1<br>\n",
    "    now we get the last 2 as it is<br>\n",
    "    2+1 = 10 *(using therorem a1)* we write only 0 and 1 is in hand (wait).<br>\n",
    "    now we get first 1 and 1 in hand (wait) so 1+1 = 2.<br>\n",
    "    Hence we get 202.\n",
    "<br><br>\n",
    "3. In case 3:\n",
    "\n",
    "    0 * 2 = 0 and 0 * 1 = 0<br>\n",
    "    then 2 * 2 = 11 *(using theorem m1)* but we write only 1 and another 1 is in hand (wait).<br>\n",
    "    2 * 1 = 2 and we have 1 in hand (wait) so 2+1 = 10 *(using theorem a1)*<br>\n",
    "    now we get the last 0 as it is<br>\n",
    "    0+1 = 1 and first 10 as it is.<br>\n",
    "    Hence we get 1010.\n",
    "<br><br>\n",
    "4. In case 4:\n",
    "\n",
    "    2 * 2 = 11 *(using theorem m1)* but we write only 1 and another 1 in hand (wait).<br>\n",
    "    2 * 2 = 11 *(using theorem m1)* and we have 1 in hand (wait) so 11+1 = 12.<br>\n",
    "    we get 121 from one digit. now the second digit is again 2 so we get 121 again.<br>\n",
    "    now we get the last 1 as it is.<br>\n",
    "    2+1 = 10 *(using theorem a1)* but we write only 1 and another 1 in hand (wait).<br>\n",
    "    again 1+2 = 10 *(using theorem a1)* and we have 1 in hand (wait) so 10+1 = 11, and we write 1 and 1 in hand (wait).<br>\n",
    "    the first 1 and the 1 in hand, 1+1 = 2.<br>\n",
    "    Hence we get 2101."
   ]
  },
  {
   "cell_type": "markdown",
   "metadata": {},
   "source": [
    "You only need to remember the Theorems. <br> Let's recape the Theorems."
   ]
  },
  {
   "cell_type": "markdown",
   "metadata": {},
   "source": [
    "# Theorems"
   ]
  },
  {
   "cell_type": "markdown",
   "metadata": {},
   "source": [
    "## Addition Theorems\n",
    "\n",
    "- **Theorem a1**: 1+2 = 10 (vice-versa)\n",
    "- **Theorem a2**: 2+2 = 11 (can say vice-versa)\n",
    "\n",
    "## Subtraction Theorems\n",
    "\n",
    "- **Theorem s1**: 10-1 = 2\n",
    "- **Theorme s2**: 10-2 = 1\n",
    "\n",
    "## Multiplication Theorems\n",
    "\n",
    "- **Theorem m1**: 2 * 2 = 11\n",
    "\n",
    "## Borrow System\n",
    "\n",
    "*As the base of the number system is 3, the reciver gets 3 (10 in Rohan's trio) as borrow but giver will lose only 1.*"
   ]
  },
  {
   "cell_type": "markdown",
   "metadata": {},
   "source": [
    "# Converting Rohan's trio to Decimal using Python"
   ]
  },
  {
   "cell_type": "markdown",
   "metadata": {},
   "source": [
    "Let's go back to standard decimal system and expand the numbers:\n",
    "\n",
    "122(decimal):\n",
    "\n",
    "|         | Hundreds| Tens     | Once    |\n",
    "|---------|---------|----------|---------|\n",
    "| expand| 100    +| 20      +| 2       |\n",
    "| or      | 1*100  +| 2*10    +| 2       |\n",
    "| or      | 1*(10 * 10)+|2*(10)+| 2       |\n",
    "\n",
    "<br>\n",
    "we multiply it with 10 because the base is 10. in another words the digits are (0-9) and we are run out of digits so we added another slot and again started counting. <br><br>\n",
    "Here in Hundreds we ran out of digits 2 times so we must have count till base * base, which is 10 * 10 = 100.<br>\n",
    "then in Tens we ran out of digits 1 time so we must have counted till base, which is 10.<br>\n",
    "lastly we count till 2.\n",
    "<br><br>\n",
    "simillarly\n",
    "\n",
    "122(Rohan's trio):\n",
    "\n",
    "|         | Nines| Threes     | Once    |\n",
    "|---------|---------|----------|---------|\n",
    "| expand| 100    +| 20      +| 2       |\n",
    "| or      | 1*100(9 in decimal)  +| 2*10(3 in decimal)    +| 2       |\n",
    "| or      | 1*(10(3 in decimal) * 10(3 in decimal))+|2*(10)(3 in decimal)+| 2       |\n",
    "\n",
    "<br>\n",
    "we multiply it with 10 because the base is 3 (10 in Rohan's trio). in another words the digits are (0-2) and we are run out of digits so we added another slot and again started counting. <br><br>\n",
    "Here in Nines we ran out of digits 2 times so we must have count till base * base, which is 10 * 10 = 100 (3 * 3 = 9).<br>\n",
    "then in Threes we ran out of digits 1 time so we must have counted till base, which is 10 (3).<br>\n",
    "lastly we count till 2.\n",
    "\n",
    "Okay now, if we look closley:<br><br>\n",
    "we expanded 123 = 1 * (10(3) * 10(3)) + 2 * 10(3) + 2\n",
    "if we ignore Rohan's trio and look over decimal only,<br>\n",
    "we get: 1 * (3 * 3) + 2 * (3) + 2 = 17<br>\n",
    "and 17 in decimal is 122 in Rohan's trio.\n",
    "\n",
    "now to convert Rohan's trio into decimal Algorithm we can make here is:\n",
    "<br>\n",
    "- step 1: define a function to add_slot (multiply the digit with base(3)) as we ran out of digits.\n",
    "    - takes digit and return digit * 3.\n",
    "- step 2: take number in Rohan's trio as input and store it in list Rohan_trio.\n",
    "- step 3: check length of the number given and store it in length.\n",
    "- step 4: take first digit and pass it to add_slot function till length-1 as we ran out of digit length-1 times.\n",
    "- step 5: add the answer in decimal which is 0 initially and remove the digit from number.\n",
    "- step 6: repeat step 2,3 till Rohan_trio is empty.\n",
    "- step 7: if we got last digit of the number add it to decimal as it is, because it didn't need to add_slot it just count till the digit it is.\n",
    "- step 8: print the decimal.\n",
    "\n",
    "Now Let's code it."
   ]
  },
  {
   "cell_type": "code",
   "execution_count": null,
   "metadata": {},
   "outputs": [],
   "source": [
    "# function to multiply 10 (3 in decimal) if we ran out of digits\n",
    "def add_slot(dig):\n",
    "    return dig*3\n",
    "\n",
    "def Rohan_trio_to_Decimal(s):\n",
    "    for char in s:\n",
    "        if not char.isdigit():  # Checks if the character is not a digit\n",
    "            return print(\"Enter a Decimal number.\")  # Found a non-digit character\n",
    "    Rohan_trio=list(s) # making list of digit from the input\n",
    "    decimal=0 # initializing the decimal to 0\n",
    "    length=len(Rohan_trio) # taking the number of digits in input\n",
    "    \n",
    "    while length>0:\n",
    "        \n",
    "        if length!=1: # because we ran out of digits\n",
    "            \n",
    "            # converting first digit into int and storing it in dig\n",
    "            dig = int(Rohan_trio[0])\n",
    "            \n",
    "            # checking if we got digit >= 3\n",
    "            if dig >=3:\n",
    "                return print(\"Enetr number from Rohan's trio, Base 3 | only digits from (0-2) are accepted.\")\n",
    "            \n",
    "            # passing the digit to add_slot function till lenght-1 as ran out of digit till length-1 times\n",
    "            for i in range(length-1):\n",
    "                dig = add_slot(dig)\n",
    "            decimal += dig # adding the decimal converted digit\n",
    "                \n",
    "        else: # because we didn't ran out of digits\n",
    "            \n",
    "            # converting first digit into int and storing it in dig\n",
    "            dig = int(Rohan_trio[0])\n",
    "            \n",
    "            # checking if we got digit >= 3\n",
    "            if dig >=3:\n",
    "                    return print(\"Enetr number from Rohan's trio, Base 3 | only digits from (0-2) are accepted.\")\n",
    "            \n",
    "            decimal += dig # adding the dig to decimal as it is.\n",
    "        \n",
    "    return decimal # returning the decimal converted number\n",
    "\n",
    "Rohan_trio=input(\"Enter a number in Rohan's trio:\\t\") # taking input\n",
    "decimal = Rohan_trio_to_Decimal(Rohan_trio) # calling the Rohan_trio_to_Decimal function\n",
    "print(\"The decimal for \", Rohan_trio, \" is: \" ,decimal) # printing the decimal converted number"
   ]
  },
  {
   "cell_type": "markdown",
   "metadata": {},
   "source": [
    "Please use 3 digit numbers so that you can check the result over here: [*click here*](#Three-digit-numbers-will-be:)"
   ]
  },
  {
   "cell_type": "markdown",
   "metadata": {},
   "source": [
    "# Converting Decimal to Rohan's trio using Python"
   ]
  },
  {
   "cell_type": "markdown",
   "metadata": {},
   "source": [
    "Okay we came a long way.Let's now see how to convert decimal to Rohan's trio.<br><br>\n",
    "17(decimal):<br><br>Think how many times we got ran out of digits in Rohan's trio to get till 17 in decimal. (how many iteration).<br>we can find it out by dividing it with 3 as our base is 3.<br><br>\n",
    "17/3 = quotient = 5 and reminder = 2. Thus<br>\n",
    "17 = 5 * iterations + 2 extra count (but we can't represent 5 in Rohan's trio, so agin divide it by 3)<br>\n",
    "5/3 = quotient = 1 and reminder = 2. we get<br>\n",
    "17 = (1 * iteration + 2) * iteration + 2 or<br>\n",
    "17 = 1 * iteration * iteration + 2 * iteration + 2<br><br>\n",
    "\n",
    "Here iteration is after 3 as the base is 3 and which is 10 in Rohan's trio, so<br><br>\n",
    "17 = 1 * 10 * 10 + 2* 10 + 2<br>\n",
    "17 = 1 * 100 + 20 + 2<br>\n",
    "17 = 100 + 20 + 2<br>\n",
    "17(decimal) = 122(Rohan's trio)\n",
    "\n",
    "so by this we can conclude that:\n",
    "\n",
    "|Position of digit   | 3 | 2     | 1    |\n",
    "|---------|---------|----------|---------|\n",
    "| Iterations| 2| 1| 0     |\n",
    "\n",
    "Iteration = Position-1<br><br>\n",
    "\n",
    "now to convert Rohan's trio into decimal Algorithm we can make here is:\n",
    "<br>\n",
    "- step 1: define a function to iterate (multiply the digit with 10 (3 in decimal)) as we iterate after every 3 numbers.\n",
    "    - it takes remainder and position.\n",
    "    - if the position is 1 it will return the remainder.\n",
    "    - if the position is not 1 it will multiply the reminder with 10 (3 in decimal) position-1 times.\n",
    "    - update the new reminder and then return it.\n",
    "- step 2: take number in Decimal as input then covert and store it in Decimal.\n",
    "- step 3: Initalize position with 1 and Rohan_trio with 0.\n",
    "- step 4: take the reminder of the number in decimal with 3(base) and pass it to iterate function and add the result to Rohan_tio.\n",
    "- step 5: take the quotient of the number in decimal with 3(base) and update the number to it's quotient.\n",
    "- step 6: increase the position with 1.\n",
    "- step 7: repeat step 4,5 till number in decimal is not 0.\n",
    "- step 8: print the Rohan_trio.\n",
    "\n",
    "Now Let's code it."
   ]
  },
  {
   "cell_type": "code",
   "execution_count": null,
   "metadata": {},
   "outputs": [],
   "source": [
    "# Function to multiply 10 (3 in binary) to get the iteration not\n",
    "def iterate(remainder, times):\n",
    "    '''\n",
    "    this for loop will multiply 10 to remineder according to the position\n",
    "    of the reminder in Rohan's trio number. if the position is 1 then will\n",
    "    return the reminder as it is.\n",
    "    '''\n",
    "    for _ in range(times-1): \n",
    "        remainder *= 10\n",
    "    return remainder\n",
    "\n",
    "def Decimal_to_Rohan_trio(n):\n",
    "    Rohan_trio = 0 # initializing Rohan_trio to 0\n",
    "    position = 1 # taking first position as 1\n",
    "\n",
    "    while n > 0:\n",
    "        remainder = n % 3 # getting remainder\n",
    "        Rohan_trio += iterate(remainder, position) # passing remainder and position to iterate function\n",
    "        n = n // 3 # geting quotient and updating number to it\n",
    "        position += 1 # increasing the position\n",
    "    \n",
    "    return Rohan_trio # returning the number converted to Rohan's trio \n",
    "\n",
    "try:\n",
    "    Decimal=int(input(\"Enter a number in Decimal:\\t\")) # taking input and converting to int\n",
    "    Rohan_trio = Decimal_to_Rohan_trio(Decimal) # calling the Decimal_to_Rohan_trio function\n",
    "    print(\"The Rohan's trio for \", Decimal, \" is: \" ,Rohan_trio) # printing the Rohan's trio converted number\n",
    "except: \n",
    "    print(\"Enter a Decimal number\")\n"
   ]
  },
  {
   "cell_type": "markdown",
   "metadata": {},
   "source": [
    "Please use numbers from (0-26) so that you can check the result over here: [*click here*](#Three-digit-numbers-will-be:)"
   ]
  },
  {
   "cell_type": "markdown",
   "metadata": {},
   "source": [
    "So that's **Rohan's trio** for you all. <br>\n",
    "Hope I didn't make it borring and made you understand properly.<br>"
   ]
  },
  {
   "cell_type": "markdown",
   "metadata": {},
   "source": [
    "# Acknowledgement\n",
    "\n",
    "I would like to express my sincere gratitude to **Mr. Sandeep Giri Sir**  and **CloudxLab** for providing this project idea and opportunity to me. Also mentorig and supporting me throughout the project.<br><br>\n",
    "**Mr. Sandeep Giri Sir** is an amazing theacher and he inspire me alot that I am able to complete this project in 2 and half hours. I am looking forward to improve and add more to this project also looking to do more such amazing and different projects.<br><br>\n",
    "once again Thank you **Mr. Sandeep Giri Sir**  and **CloudxLab**."
   ]
  }
 ],
 "metadata": {
  "kernelspec": {
   "display_name": "Python 3",
   "language": "python",
   "name": "python3"
  },
  "language_info": {
   "codemirror_mode": {
    "name": "ipython",
    "version": 3
   },
   "file_extension": ".py",
   "mimetype": "text/x-python",
   "name": "python",
   "nbconvert_exporter": "python",
   "pygments_lexer": "ipython3",
   "version": "3.6.8"
  },
  "toc": {
   "base_numbering": 1,
   "nav_menu": {},
   "number_sections": true,
   "sideBar": true,
   "skip_h1_title": false,
   "title_cell": "Table of Contents",
   "title_sidebar": "Contents",
   "toc_cell": false,
   "toc_position": {},
   "toc_section_display": true,
   "toc_window_display": false
  }
 },
 "nbformat": 4,
 "nbformat_minor": 2
}
