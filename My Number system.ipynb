{
 "cells": [
  {
   "cell_type": "markdown",
   "metadata": {},
   "source": [
    "# My Number System (Rohan's trio)"
   ]
  },
  {
   "cell_type": "markdown",
   "metadata": {},
   "source": [
    "Index\n",
    "\n",
    "1. [*Choosing base*](#Choosing-a-base:)\n",
    "2. [*Numbers*](#The-numbers-will-be:)\n",
    "3. [*Total numbers using n digit*](#total-numbers-using-n-digits-in-Rohan's-trio)\n",
    "4. [*Addition & Subtraction*](#Addition-&-Subtraction-in-Rohan's-trio)\n",
    "5. [*Multiplication*](#Multiplication-in-Rohan's-trio)\n",
    "6. [*Theorems*](#Theorems)\n",
    "7. [*Acknowledgement*](#Acknowledgement)"
   ]
  },
  {
   "cell_type": "markdown",
   "metadata": {},
   "source": [
    "## Choosing a base: \n",
    "My base will be 3"
   ]
  },
  {
   "cell_type": "markdown",
   "metadata": {},
   "source": [
    "I choosed the base 3 for some reasons:\n",
    "\n",
    "- As the total numbers I can form will be 27 (base^digits => 3^3 => 27).\n",
    "- 27 is a decent amount. So I need to write less.\n",
    "- Most importantly I am a bit lazy. 😅"
   ]
  },
  {
   "cell_type": "markdown",
   "metadata": {},
   "source": [
    "## The numbers will be:"
   ]
  },
  {
   "cell_type": "markdown",
   "metadata": {},
   "source": [
    "`0:  0\n",
    "1:  1\n",
    "2:  2\n",
    "3:  10\n",
    "4:  11\n",
    "5:  12\n",
    "6:  20\n",
    "7:  21\n",
    "8:  22\n",
    "9:  100\n",
    "10: 101\n",
    "11: 102\n",
    "12: 110\n",
    "13: 111\n",
    "14: 112\n",
    "15: 120\n",
    "16: 121\n",
    "17: 122\n",
    "18: 200\n",
    "19: 201\n",
    "20: 202\n",
    "21: 210\n",
    "22: 211\n",
    "23: 212\n",
    "24: 220\n",
    "25: 221\n",
    "26: 222\n",
    "`"
   ]
  },
  {
   "cell_type": "markdown",
   "metadata": {},
   "source": [
    "## total numbers using n digits in Rohan's trio"
   ]
  },
  {
   "cell_type": "markdown",
   "metadata": {},
   "source": [
    "(base)^digit = total numbers can be form\n",
    "\n",
    "- (3)^1 = 3 [0,1,2]\n",
    "- (3)^2 = 9 [0,1,2,10,11,12,20,21,22]\n",
    "- (3)^3 = 27 [0,1,2,3,10,11,12,20,21,22,100,...,222]"
   ]
  },
  {
   "cell_type": "markdown",
   "metadata": {},
   "source": [
    "## Addition & Subtraction in Rohan's trio"
   ]
  },
  {
   "cell_type": "markdown",
   "metadata": {},
   "source": [
    "### Addition for single digit"
   ]
  },
  {
   "cell_type": "markdown",
   "metadata": {},
   "source": [
    "| for 0   | for 2   | for 3    |\n",
    "|---------|---------|----------|\n",
    "| 0+0 = 0 | 1+0 = 1 | 2+0 = 2  |\n",
    "| 0+1 = 1 | 1+1 = 2 | 2+1 = 10 |\n",
    "| 0+2 = 2 | 1+2 = 10| 2+2 = 11 |"
   ]
  },
  {
   "cell_type": "markdown",
   "metadata": {},
   "source": [
    "**Addition Theorems**\n",
    "\n",
    "It's quit easy right. Just 2 simple Theorems:\n",
    "\n",
    "- 1+2 = 10 (vice-versa) say it **Theorem a1**\n",
    "- 2+2 = 11 (can say vice-versa) say it **Theorem a2**"
   ]
  },
  {
   "cell_type": "markdown",
   "metadata": {},
   "source": [
    "### Subtracting for single digit"
   ]
  },
  {
   "cell_type": "markdown",
   "metadata": {},
   "source": [
    "| for 1   | for 2   |\n",
    "|---------|---------|\n",
    "| 1-0 = 1 | 2-0 = 2 |\n",
    "| 1-1 = 0 | 2-1 = 1 |\n",
    "|         | 2-2 = 0|"
   ]
  },
  {
   "cell_type": "markdown",
   "metadata": {},
   "source": [
    "here, we are not taking **for 0** as it is the smallest number and we will be considered subtracting smaller from bigger number right now **(hence not taking 1-2 as a case)**. This is because of copule of seasons:\n",
    "\n",
    "- By subtracting bigger from smaller we get negative value.\n",
    "- We are focusing on positive values right now.\n",
    "- I don't want nightmare. 😅"
   ]
  },
  {
   "cell_type": "markdown",
   "metadata": {},
   "source": [
    "### Addition for two digits"
   ]
  },
  {
   "cell_type": "markdown",
   "metadata": {},
   "source": [
    "Lets's see if this is easy too:\n",
    "\n",
    "| case 1 | case 2 | case 3 | case 4 |\n",
    "|----|----|----|----|\n",
    "| 10 | 20 | 20 | 22 |\n",
    "|+ 22|+ 12|+ 22|+ 22|\n",
    "|----|----|----|----|\n",
    "| 102| 102| 112| 121|"
   ]
  },
  {
   "cell_type": "markdown",
   "metadata": {},
   "source": [
    "1. In case 1:\n",
    "\n",
    "    0+2 = 2 and <br> 1+2 = 10 *(using theorem a1)*. <br> Hence we get 102.\n",
    "<br> <br>\n",
    "2. In case 2:\n",
    "\n",
    "    0+2 = 2 and <br> 2+1 = 10 *(using theorem a1)*. <br> Hence we get 102.\n",
    "<br><br>\n",
    "3. In case 3:\n",
    "\n",
    "    0+2 = 2 and <br> 2+2 = 11 *(using theorem a2)*. <br> Hence we get 112.\n",
    "<br><br>\n",
    "4. In case 4:\n",
    "\n",
    "    2+2 = 11 *(using theorm a2)*. **Where we write only 1 and another 1 in hand (wait).**<br>\n",
    "    2+2 = 11 *(using theorem a2)*. **But we have 1 in hand (wait) so 11+1 = 12.**<br>\n",
    "    Hence we get 121"
   ]
  },
  {
   "cell_type": "markdown",
   "metadata": {},
   "source": [
    "It's actually easy just remember theroems. <br> If you don't feel it's easy, I suggest you to go through [*(1.4.1) sigle digit addition.*](#Addition-for-single-digit)"
   ]
  },
  {
   "cell_type": "markdown",
   "metadata": {},
   "source": [
    "### Subtraction for two digits"
   ]
  },
  {
   "cell_type": "markdown",
   "metadata": {},
   "source": [
    "I hope you gone through *(1.4.1) sigle digit addition.* Because we will need it more here. <br> Let's start ! 💻"
   ]
  },
  {
   "cell_type": "markdown",
   "metadata": {},
   "source": [
    "| case 1 | case 2 | case 3 | case 4 |\n",
    "|----|----|----|----|\n",
    "| 22 | 22 | 21 | 20 |\n",
    "|- 10|- 20|- 12|- 12 |\n",
    "|----|----|----|----|\n",
    "| 12| 02| 02| 01|"
   ]
  },
  {
   "cell_type": "markdown",
   "metadata": {},
   "source": [
    "Okay so,\n",
    "\n",
    "1. In case 1:\n",
    "    \n",
    "    2-0 = 2 and <br> 2-1 = 1 <br> Hence we get 12. No Rockect Science right.\n",
    "<br><br>\n",
    "2. In case 2:\n",
    "\n",
    "    2-0 = 2 and <br> 2-2 = 0 <br> Hence we get 02. It's easy."
   ]
  },
  {
   "cell_type": "markdown",
   "metadata": {},
   "source": [
    "**Substraction Theorems**\n",
    "\n",
    "Before moving on let's just look into some theormes:\n",
    "\n",
    "Using Theorem a1, which says:<br>\n",
    "1+2 = 10<br>\n",
    "or we can write it as:<br>\n",
    "- 10-1 = 2 say it **Theorem s1**\n",
    "- 10-2 = 1 say it **Theorme s2**\n",
    "<br><br>\n",
    "using Theorem a2, which says:<br>\n",
    "2+2 = 11<br>\n",
    "or we can write it as:<br>\n",
    "- 11-2 = 2 say it **Theorem s3**\n",
    "\n",
    "**Borrow system**\n",
    "\n",
    "- *As the base of the number system is 3, the reciver gets 3 (10 in Rohan's trio) as borrow but giver will lose only 1.*"
   ]
  },
  {
   "cell_type": "markdown",
   "metadata": {},
   "source": [
    "3. In case 3:\n",
    "\n",
    "    1-2 is not possible so we get borrow.<br>\n",
    "    **so now, 1 is 11 (1+10 = 11 (3 of rohan's trio = 10) ).<br> and 2 is now 1 (as it lose only 1).**<br><br>\n",
    "    So now, 11-2 = 2 *(using Theorem s3)* and\n",
    "    <br> 1-1 = 0.\n",
    "    <br> Hence we get 02.\n",
    "<br><br>\n",
    "simillarly<br><br>\n",
    "4. In case 4:\n",
    "\n",
    "    0-2 is not possible so we get borrow. <br>\n",
    "   **so now, 0 is 10 (0+10 = 10 (3 of Rohan's trio = 10)).<br> and 2 is now 1 (as it lose only 1).**\n",
    "   <br><br>\n",
    "   10-2 = 1 *(using theorem s2)* and\n",
    "   <br> 1-1 = 0.\n",
    "   <br> Hence we get 01."
   ]
  },
  {
   "cell_type": "markdown",
   "metadata": {},
   "source": [
    "## Multiplication in Rohan's trio"
   ]
  },
  {
   "cell_type": "markdown",
   "metadata": {},
   "source": [
    "### Single digit multiplication"
   ]
  },
  {
   "cell_type": "markdown",
   "metadata": {},
   "source": [
    "| for 0   | for 2   | for 3    |\n",
    "|---------|---------|----------|\n",
    "| 0*0 = 0 | 1*0 = 0 | 2*0 = 0  |\n",
    "| 0*1 = 0 | 1*1 = 1 | 2*1 = 2 |\n",
    "| 0*2 = 0 | 1*2 = 2 | 2*2 = 11 |"
   ]
  },
  {
   "cell_type": "markdown",
   "metadata": {},
   "source": [
    "**Multiplication theorem**\n",
    "\n",
    "it's again easy, just remember 1 Theorem\n",
    "\n",
    "- 2 * 2 = 11 say it **Theorem m1**"
   ]
  },
  {
   "cell_type": "markdown",
   "metadata": {},
   "source": [
    "### two digit multiplication"
   ]
  },
  {
   "cell_type": "markdown",
   "metadata": {},
   "source": [
    "| case 1 | case 2 |\n",
    "|----|----|\n",
    "| 10 | 11 |\n",
    "|* 11|* 12|\n",
    "|----|----|\n",
    "| 10 | 22 |\n",
    "|10* |11* |\n",
    "|----|----|\n",
    "|110 |202 |"
   ]
  },
  {
   "cell_type": "markdown",
   "metadata": {},
   "source": [
    "1. In case 1:\n",
    "\n",
    "    1 * 0 = 0 and again 1*1 = 1<br>\n",
    "    then again 1 * 0 = 0 and 1*1 = 1<br>\n",
    "    now we get last 0 as it is<br>\n",
    "    1+0 = 1 and first 1 as it is.<br>\n",
    "    Hence we get 110.\n",
    "<br><br>\n",
    "2. In case 2:\n",
    "\n",
    "    2 * 1 = 2 and 2 * 1 = 2<br>\n",
    "    then 1 * 1 = 1 and 1 * 1 = 1<br>\n",
    "    now we get the last 2 as it is<br>\n",
    "    2+1 = 10 *(using therorem a1)* we write only 0 and 1 is in hand (wait).<br>\n",
    "    now we get first 1 and 1 in hand (wait) so 1+1 = 2.<br>\n",
    "    Hence we get 202."
   ]
  },
  {
   "cell_type": "markdown",
   "metadata": {},
   "source": [
    "Note we are not taking digits greater than **12 (5 in decimal)** as two digit numbers for multiplication.\n",
    "\n",
    "- because 12 (5 in decimal) * 20 (6 in decimal) = 1010 (30).\n",
    "- But as we know from starting that, Rohan's trio has only 27 numbers at most and the larget number is 26. \n",
    "- Also 1010 is 4 digit number so it's not defined in Rohan's trio."
   ]
  },
  {
   "cell_type": "markdown",
   "metadata": {},
   "source": [
    "It's simple right, so let's have \n",
    "\n",
    "### Two digit multiplication with one digit."
   ]
  },
  {
   "cell_type": "markdown",
   "metadata": {},
   "source": [
    "| case 1 |\n",
    "|----|\n",
    "| 12 |\n",
    "|*  2|\n",
    "|----|\n",
    "| 101|"
   ]
  },
  {
   "cell_type": "markdown",
   "metadata": {},
   "source": [
    "1. In case 1:\n",
    "\n",
    "    2 * 2 = 11 *(using theorem m1)* we write only 1 and another 1 is in hand (wait).<br>\n",
    "    2 * 1 = 2 and<br>\n",
    "    2 + 1 which was in hand (wait) = 10 *(usig theorem a1).*<br>\n",
    "    Hence we get 101."
   ]
  },
  {
   "cell_type": "markdown",
   "metadata": {},
   "source": [
    "It's easy one too. You only need to remember the Theorems. <br> Let's recape the Theorems."
   ]
  },
  {
   "cell_type": "markdown",
   "metadata": {},
   "source": [
    "# Theorems"
   ]
  },
  {
   "cell_type": "markdown",
   "metadata": {},
   "source": [
    "## Addition Theorems\n",
    "\n",
    "- **Theorem a1**: 1+2 = 10 (vice-versa)\n",
    "- **Theorem a2**: 2+2 = 11 (can say vice-versa)\n",
    "\n",
    "## Subtraction Theorems\n",
    "\n",
    "- **Theorem s1**: 10-1 = 2\n",
    "- **Theorme s2**: 10-2 = 1\n",
    "- **Theorme s3**: 11-2 = 2\n",
    "\n",
    "## Multiplication Theorems\n",
    "\n",
    "- **Theorem m1**: 2 * 2 = 11\n",
    "\n",
    "## Borrow System\n",
    "\n",
    "*As the base of the number system is 3, the reciver gets 3 (10 in Rohan's trio) as borrow but giver will lose only 1.*"
   ]
  },
  {
   "cell_type": "markdown",
   "metadata": {},
   "source": [
    "So that's **Rohan's trio** for you all. <br>\n",
    "Hope I didn't make it borring and made you understand properly.<br>"
   ]
  },
  {
   "cell_type": "markdown",
   "metadata": {},
   "source": [
    "# Acknowledgement\n",
    "\n",
    "I would like to express my sincere gratitude to **Mr. Sandeep Giri Sir**  and **CloudxLab** for providing this project idea and opportunity to me. Also mentorig and supporting me throughout the project.<br><br>\n",
    "**Mr. Sandeep Giri Sir** is an amazing theacher and he inspire me alot that I am able to complete this project in 2 and half hours. I am looking forward to improve and add more to this project also looking to do more such amazing and different projects.<br><br>\n",
    "once again Thank you **Mr. Sandeep Giri Sir**  and **CloudxLab**."
   ]
  }
 ],
 "metadata": {
  "kernelspec": {
   "display_name": "Python 3",
   "language": "python",
   "name": "python3"
  },
  "language_info": {
   "codemirror_mode": {
    "name": "ipython",
    "version": 3
   },
   "file_extension": ".py",
   "mimetype": "text/x-python",
   "name": "python",
   "nbconvert_exporter": "python",
   "pygments_lexer": "ipython3",
   "version": "3.6.8"
  },
  "toc": {
   "base_numbering": 1,
   "nav_menu": {},
   "number_sections": true,
   "sideBar": true,
   "skip_h1_title": false,
   "title_cell": "Table of Contents",
   "title_sidebar": "Contents",
   "toc_cell": false,
   "toc_position": {},
   "toc_section_display": true,
   "toc_window_display": false
  }
 },
 "nbformat": 4,
 "nbformat_minor": 2
}
